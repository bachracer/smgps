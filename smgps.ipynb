{
 "cells": [
  {
   "cell_type": "code",
   "execution_count": 1,
   "metadata": {},
   "outputs": [
    {
     "name": "stdout",
     "output_type": "stream",
     "text": [
      "true\n",
      "Successfully loaded Singular\n",
      "43\n",
      "[20, 24, 25, 26, 27, 28, 29, 30, 31, 32, 33, 34, 35, 36, 37, 38, 39, 40, 41, 42, 43, 44, 45, 46, 47, 48, 49, 50, 51, 52, 53, 54, 55, 56, 57, 58, 59, 60, 61, 62]\n",
      "{1, 4}\n",
      "70\n",
      "7\n"
     ]
    },
    {
     "data": {
      "image/png": "[encoded data removed]",
      "text/plain": [
       "Graphics object consisting of 11 graphics primitives"
      ]
     },
     "execution_count": 1,
     "metadata": {},
     "output_type": "execute_result"
    }
   ],
   "source": [
    "load('NumericalSemigroup.sage')\n",
    "McNuggets = NumericalSemigroup([6,9,20])\n",
    "print(McNuggets.FrobeniusNumber())\n",
    "print(McNuggets.LengthSet(400))\n",
    "print(McNuggets.DeltaSet(400))\n",
    "print(McNuggets.OmegaPrimality(400))\n",
    "print(McNuggets.CatenaryDegree(400))\n",
    "load('KunzPoset.sage')\n",
    "load('PlotKunzPoset.sage')\n",
    "PlotKunzPoset([6,9,20])\n",
    "PlotKunzPoset([5,6,9])\n"
   ]
  },
  {
   "cell_type": "code",
   "execution_count": 11,
   "metadata": {},
   "outputs": [
    {
     "data": {
      "text/plain": [
       "[8, 3, 1, 6, 4]"
      ]
     },
     "execution_count": 11,
     "metadata": {},
     "output_type": "execute_result"
    }
   ],
   "source": [
    "McNuggets.KunzCoordinates()"
   ]
  },
  {
   "cell_type": "code",
   "execution_count": 61,
   "metadata": {},
   "outputs": [
    {
     "data": {
      "text/plain": [
       "1"
      ]
     },
     "execution_count": 61,
     "metadata": {},
     "output_type": "execute_result"
    }
   ],
   "source": [
    "NumericalSemigroup([2,3,4]).FrobeniusNumber()"
   ]
  },
  {
   "cell_type": "code",
   "execution_count": 66,
   "metadata": {},
   "outputs": [
    {
     "data": {
      "text/plain": [
       "([29,\n",
       "  23,\n",
       "  139,\n",
       "  85,\n",
       "  5,\n",
       "  57,\n",
       "  78,\n",
       "  87,\n",
       "  58,\n",
       "  143,\n",
       "  21,\n",
       "  46,\n",
       "  37,\n",
       "  131,\n",
       "  121,\n",
       "  103,\n",
       "  65,\n",
       "  29,\n",
       "  -1,\n",
       "  25,\n",
       "  81,\n",
       "  55,\n",
       "  85,\n",
       "  118,\n",
       "  70,\n",
       "  -1,\n",
       "  11,\n",
       "  29,\n",
       "  32,\n",
       "  36,\n",
       "  19,\n",
       "  19,\n",
       "  81,\n",
       "  -1,\n",
       "  25,\n",
       "  43,\n",
       "  41,\n",
       "  61,\n",
       "  132,\n",
       "  73,\n",
       "  167,\n",
       "  81,\n",
       "  17,\n",
       "  104,\n",
       "  74,\n",
       "  115,\n",
       "  159],\n",
       " [24*1064934^(1/4),\n",
       "  24*531300^(1/4),\n",
       "  48*3148530^(1/4),\n",
       "  144*5390^(1/4),\n",
       "  96*1449^(1/4),\n",
       "  72*33418^(1/4),\n",
       "  24*14594650^(1/4),\n",
       "  48*997425^(1/4),\n",
       "  144*5083^(1/4),\n",
       "  144*8280^(1/4),\n",
       "  24*978120^(1/4),\n",
       "  24*4029480^(1/4),\n",
       "  24*422037^(1/4),\n",
       "  48*1438710^(1/4),\n",
       "  96*219780^(1/4),\n",
       "  48*1711710^(1/4),\n",
       "  48*1056510^(1/4),\n",
       "  96*4095^(1/4),\n",
       "  144*195^(1/4),\n",
       "  24*1420020^(1/4),\n",
       "  96*67725^(1/4),\n",
       "  96*24795^(1/4),\n",
       "  144*10920^(1/4),\n",
       "  168*21252^(1/4),\n",
       "  24*11551176^(1/4),\n",
       "  48*3774^(1/4),\n",
       "  48*23400^(1/4),\n",
       "  0,\n",
       "  144*1235^(1/4),\n",
       "  48*168025^(1/4),\n",
       "  24*401940^(1/4),\n",
       "  144*1715^(1/4),\n",
       "  24*17186796^(1/4),\n",
       "  24*194040^(1/4),\n",
       "  48*148995^(1/4),\n",
       "  48*153846^(1/4),\n",
       "  96*30360^(1/4),\n",
       "  0,\n",
       "  144*48165^(1/4),\n",
       "  0,\n",
       "  0,\n",
       "  96*40455^(1/4),\n",
       "  96*945^(1/4),\n",
       "  24*25461000^(1/4),\n",
       "  48*460845^(1/4),\n",
       "  192*9306^(1/4),\n",
       "  24*73252452^(1/4)])"
      ]
     },
     "execution_count": 66,
     "metadata": {},
     "output_type": "execute_result"
    }
   ],
   "source": [
    "import random\n",
    "\n",
    "def estimate(generators, n):\n",
    "    return factorial(n - 1) * (prod(generators) ^ (1 / (n - 1)))\n",
    "\n",
    "def generate_frobenious_sample(T, n, sample_size):\n",
    "    frobenius_numbers = []\n",
    "    estimates = []\n",
    "    for j in range(sample_size):\n",
    "        generators = []\n",
    "        for i in range(n):\n",
    "            generators.append(random.randrange(T))\n",
    "        if gcd(generators) != 1:\n",
    "            continue\n",
    "        frobenius_numbers.append(NumericalSemigroup(generators).FrobeniusNumber())\n",
    "        estimates.append(estimate(generators, n))\n",
    "    return frobenius_numbers, estimates\n",
    "    \n",
    "            \n",
    "\n",
    "generate_frobenious_sample(50, 5, 50)"
   ]
  },
  {
   "cell_type": "code",
   "execution_count": 56,
   "metadata": {},
   "outputs": [
    {
     "data": {
      "text/plain": [
       "{0, 1, 2, 3, 4, 5, 6, 7, 8, 9}"
      ]
     },
     "execution_count": 56,
     "metadata": {},
     "output_type": "execute_result"
    }
   ],
   "source": [
    "set([random.randrange(10) for i in range(1000)])"
   ]
  },
  {
   "cell_type": "code",
   "execution_count": 62,
   "metadata": {},
   "outputs": [
    {
     "data": {
      "text/plain": [
       "12"
      ]
     },
     "execution_count": 62,
     "metadata": {},
     "output_type": "execute_result"
    }
   ],
   "source": []
  }
 ],
 "metadata": {
  "kernelspec": {
   "display_name": "SageMath 9.5",
   "language": "sage",
   "name": "sagemath"
  },
  "language_info": {
   "codemirror_mode": {
    "name": "ipython",
    "version": 3
   },
   "file_extension": ".py",
   "mimetype": "text/x-python",
   "name": "python",
   "nbconvert_exporter": "python",
   "pygments_lexer": "ipython3",
   "version": "3.10.6"
  },
  "orig_nbformat": 4
 },
 "nbformat": 4,
 "nbformat_minor": 2
}
