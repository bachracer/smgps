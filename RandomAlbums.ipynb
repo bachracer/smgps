{
 "cells": [
  {
   "cell_type": "code",
   "execution_count": 5,
   "metadata": {},
   "outputs": [
    {
     "name": "stderr",
     "output_type": "stream",
     "text": [
      "HTTP Error for GET to https://api.spotify.com/v1/me/albums with Params: {'limit': 100, 'offset': 0, 'market': None} returned 400 due to Invalid limit\n",
      "Exception in Tkinter callback\n",
      "Traceback (most recent call last):\n",
      "  File \"/home/samo/.local/lib/python3.10/site-packages/spotipy/client.py\", line 269, in _internal_call\n",
      "    response.raise_for_status()\n",
      "  File \"/home/samo/anaconda3/envs/smgp_env/lib/python3.10/site-packages/requests/models.py\", line 1021, in raise_for_status\n",
      "    raise HTTPError(http_error_msg, response=self)\n",
      "requests.exceptions.HTTPError: 400 Client Error: Bad Request for url: https://api.spotify.com/v1/me/albums?limit=100&offset=0\n",
      "\n",
      "During handling of the above exception, another exception occurred:\n",
      "\n",
      "Traceback (most recent call last):\n",
      "  File \"/home/samo/anaconda3/envs/smgp_env/lib/python3.10/tkinter/__init__.py\", line 1921, in __call__\n",
      "    return self.func(*args)\n",
      "  File \"/tmp/ipykernel_10162/2882847602.py\", line 13, in select_albums\n",
      "    saved_albums = sp.current_user_saved_albums(limit=100)\n",
      "  File \"/home/samo/.local/lib/python3.10/site-packages/spotipy/client.py\", line 1242, in current_user_saved_albums\n",
      "    return self._get(\"me/albums\", limit=limit, offset=offset, market=market)\n",
      "  File \"/home/samo/.local/lib/python3.10/site-packages/spotipy/client.py\", line 321, in _get\n",
      "    return self._internal_call(\"GET\", url, payload, kwargs)\n",
      "  File \"/home/samo/.local/lib/python3.10/site-packages/spotipy/client.py\", line 291, in _internal_call\n",
      "    raise SpotifyException(\n",
      "spotipy.exceptions.SpotifyException: http status: 400, code:-1 - https://api.spotify.com/v1/me/albums?limit=100&offset=0:\n",
      " Invalid limit, reason: None\n",
      "HTTP Error for GET to https://api.spotify.com/v1/me/albums with Params: {'limit': 100, 'offset': 0, 'market': None} returned 400 due to Invalid limit\n",
      "Exception in Tkinter callback\n",
      "Traceback (most recent call last):\n",
      "  File \"/home/samo/.local/lib/python3.10/site-packages/spotipy/client.py\", line 269, in _internal_call\n",
      "    response.raise_for_status()\n",
      "  File \"/home/samo/anaconda3/envs/smgp_env/lib/python3.10/site-packages/requests/models.py\", line 1021, in raise_for_status\n",
      "    raise HTTPError(http_error_msg, response=self)\n",
      "requests.exceptions.HTTPError: 400 Client Error: Bad Request for url: https://api.spotify.com/v1/me/albums?limit=100&offset=0\n",
      "\n",
      "During handling of the above exception, another exception occurred:\n",
      "\n",
      "Traceback (most recent call last):\n",
      "  File \"/home/samo/anaconda3/envs/smgp_env/lib/python3.10/tkinter/__init__.py\", line 1921, in __call__\n",
      "    return self.func(*args)\n",
      "  File \"/tmp/ipykernel_10162/2882847602.py\", line 13, in select_albums\n",
      "    saved_albums = sp.current_user_saved_albums(limit=100)\n",
      "  File \"/home/samo/.local/lib/python3.10/site-packages/spotipy/client.py\", line 1242, in current_user_saved_albums\n",
      "    return self._get(\"me/albums\", limit=limit, offset=offset, market=market)\n",
      "  File \"/home/samo/.local/lib/python3.10/site-packages/spotipy/client.py\", line 321, in _get\n",
      "    return self._internal_call(\"GET\", url, payload, kwargs)\n",
      "  File \"/home/samo/.local/lib/python3.10/site-packages/spotipy/client.py\", line 291, in _internal_call\n",
      "    raise SpotifyException(\n",
      "spotipy.exceptions.SpotifyException: http status: 400, code:-1 - https://api.spotify.com/v1/me/albums?limit=100&offset=0:\n",
      " Invalid limit, reason: None\n"
     ]
    }
   ],
   "source": [
    "import random\n",
    "import spotipy\n",
    "from spotipy.oauth2 import SpotifyOAuth\n",
    "import tkinter as tk\n",
    "\n",
    "sp = spotipy.Spotify(auth_manager=SpotifyOAuth(client_id='305128b189d04bd7a16a2424cbec58b5',\n",
    "                                               client_secret='c1fd260257fa438eacaba5550d5f985d',\n",
    "                                               redirect_uri='http://localhost:9000/callback/',\n",
    "                                               scope='user-library-read'))\n",
    "\n",
    "def select_albums():\n",
    "    n = int(num_albums_entry.get())\n",
    "    saved_albums = sp.current_user_saved_albums(limit=100)\n",
    "    album_names = [album['album']['name'] for album in saved_albums['items']]\n",
    "    random_albums = random.sample(album_names, n)\n",
    "    output_text = \"\\n\".join(random_albums)\n",
    "    output_label.config(text=output_text)\n",
    "\n",
    "# Create the main window\n",
    "window = tk.Tk()\n",
    "window.title(\"Random Spotify Albums Selector\")\n",
    "\n",
    "# Create the input widgets\n",
    "num_albums_label = tk.Label(window, text=\"Number of random albums to select:\")\n",
    "num_albums_entry = tk.Entry(window)\n",
    "select_button = tk.Button(window, text=\"Select\", command=select_albums)\n",
    "\n",
    "# Create the output widget\n",
    "output_label = tk.Label(window, text=\"\", justify=\"left\")\n",
    "\n",
    "# Pack the widgets into the window\n",
    "num_albums_label.pack(pady=(10,0))\n",
    "num_albums_entry.pack(pady=(0,10))\n",
    "select_button.pack()\n",
    "output_label.pack(pady=(10,0))\n",
    "\n",
    "# Run the window\n",
    "window.mainloop()"
   ]
  },
  {
   "cell_type": "code",
   "execution_count": null,
   "metadata": {},
   "outputs": [],
   "source": []
  }
 ],
 "metadata": {
  "kernelspec": {
   "display_name": "smgp_env",
   "language": "python",
   "name": "python3"
  },
  "language_info": {
   "codemirror_mode": {
    "name": "ipython",
    "version": 3
   },
   "file_extension": ".py",
   "mimetype": "text/x-python",
   "name": "python",
   "nbconvert_exporter": "python",
   "pygments_lexer": "ipython3",
   "version": "3.10.9"
  },
  "orig_nbformat": 4,
  "vscode": {
   "interpreter": {
    "hash": "490c6e8f24b629db4f6dd52b7a9c07f3caf335d1501c1a861ece5e15355d0110"
   }
  }
 },
 "nbformat": 4,
 "nbformat_minor": 2
}
